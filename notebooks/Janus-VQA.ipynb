{
 "cells": [
  {
   "cell_type": "code",
   "execution_count": 1,
   "id": "93c15103",
   "metadata": {},
   "outputs": [
    {
     "ename": "NameError",
     "evalue": "name '__file__' is not defined",
     "output_type": "error",
     "traceback": [
      "\u001b[1;31m---------------------------------------------------------------------------\u001b[0m",
      "\u001b[1;31mNameError\u001b[0m                                 Traceback (most recent call last)",
      "Cell \u001b[1;32mIn[1], line 8\u001b[0m\n\u001b[0;32m      6\u001b[0m \u001b[38;5;66;03m# Add src to path\u001b[39;00m\n\u001b[0;32m      7\u001b[0m sys\u001b[38;5;241m.\u001b[39mpath\u001b[38;5;241m.\u001b[39minsert(\u001b[38;5;241m0\u001b[39m, os\u001b[38;5;241m.\u001b[39mpath\u001b[38;5;241m.\u001b[39mabspath(\u001b[38;5;124m'\u001b[39m\u001b[38;5;124m..\u001b[39m\u001b[38;5;124m'\u001b[39m))\n\u001b[1;32m----> 8\u001b[0m sys\u001b[38;5;241m.\u001b[39mpath\u001b[38;5;241m.\u001b[39minsert(\u001b[38;5;241m0\u001b[39m, os\u001b[38;5;241m.\u001b[39mpath\u001b[38;5;241m.\u001b[39mjoin(os\u001b[38;5;241m.\u001b[39mpath\u001b[38;5;241m.\u001b[39mdirname(\u001b[38;5;18;43m__file__\u001b[39;49m), \u001b[38;5;124m'\u001b[39m\u001b[38;5;124msrc\u001b[39m\u001b[38;5;124m'\u001b[39m))\n\u001b[0;32m     10\u001b[0m \u001b[38;5;28;01mfrom\u001b[39;00m\u001b[38;5;250m \u001b[39m\u001b[38;5;21;01msrc\u001b[39;00m\u001b[38;5;21;01m.\u001b[39;00m\u001b[38;5;21;01mcore\u001b[39;00m\u001b[38;5;250m \u001b[39m\u001b[38;5;28;01mimport\u001b[39;00m JanusVQAInference\n\u001b[0;32m     11\u001b[0m \u001b[38;5;28;01mfrom\u001b[39;00m\u001b[38;5;250m \u001b[39m\u001b[38;5;21;01mconfig\u001b[39;00m\u001b[38;5;250m \u001b[39m\u001b[38;5;28;01mimport\u001b[39;00m ( get_dataset_config, get_output_path )\n",
      "\u001b[1;31mNameError\u001b[0m: name '__file__' is not defined"
     ]
    }
   ],
   "source": [
    "import argparse\n",
    "import sys\n",
    "import os\n",
    "from typing import List\n",
    "\n",
    "# Add src to path\n",
    "sys.path.insert(0, os.path.abspath('..'))\n",
    "sys.path.insert(0, os.path.join(os.path.dirname(__file__), 'src'))\n",
    "\n",
    "from src.core import JanusVQAInference\n",
    "from config import ( get_dataset_config, get_output_path )\n",
    "\n"
   ]
  },
  {
   "cell_type": "code",
   "execution_count": null,
   "id": "c5ce4051",
   "metadata": {},
   "outputs": [],
   "source": [
    "args = {\n",
    "    \"method\": \"janus_vqa\",\n",
    "    \"dataset\": \"custom\",\n",
    "    \"gpu\": \"0\",\n",
    "    \"output_dir\": \"outputs\",\n",
    "    \"experiment_suffix\": \"custom_run\",\n",
    "    \"use_visibility_rule\": True,\n",
    "    \"use_unanswerable_rule\": True,\n",
    "}\n",
    "\n",
    "\n",
    "def run_single_experiment(args):\n",
    "    \"\"\"Run a single experiment configuration.\"\"\"\n",
    "    print(f\"Running {args.method} on {args.dataset}\")\n",
    "    \n",
    "    os.environ[\"CUDA_VISIBLE_DEVICES\"] = args.gpu\n",
    "    dataset_config = get_dataset_config(args.dataset)\n",
    "    \n",
    "    experiment_suffix = args.experiment_suffix or \"default\"\n",
    "    output_path = get_output_path(args.output_dir, f\"{args.method}_{experiment_suffix}\", \n",
    "                                 args.dataset)\n",
    "    \n",
    "    inference = JanusVQAInference(device=\"auto\")\n",
    "    inference.run_dataset(\n",
    "            dataset_config, output_path,\n",
    "            use_visibility_rule=args.use_visibility_rule,\n",
    "            use_unanswerable_rule=args.use_unanswerable_rule\n",
    "        )\n",
    "\n",
    "\n",
    "    \n",
    "    print(f\"Results saved to: {output_path}\")"
   ]
  }
 ],
 "metadata": {
  "kernelspec": {
   "display_name": "dam-qa",
   "language": "python",
   "name": "python3"
  },
  "language_info": {
   "codemirror_mode": {
    "name": "ipython",
    "version": 3
   },
   "file_extension": ".py",
   "mimetype": "text/x-python",
   "name": "python",
   "nbconvert_exporter": "python",
   "pygments_lexer": "ipython3",
   "version": "3.10.18"
  }
 },
 "nbformat": 4,
 "nbformat_minor": 5
}
